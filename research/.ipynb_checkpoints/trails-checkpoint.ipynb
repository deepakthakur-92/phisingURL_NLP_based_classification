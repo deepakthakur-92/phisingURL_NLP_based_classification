{
 "cells": [
  {
   "cell_type": "markdown",
   "id": "6feb26ac-6551-4fe9-a2ec-f231493f119f",
   "metadata": {},
   "source": [
    "# Importing Necessary libraries"
   ]
  },
  {
   "cell_type": "code",
   "execution_count": 164,
   "id": "9f1bdac6-e6ed-462a-8b55-4758a14b56ce",
   "metadata": {},
   "outputs": [],
   "source": [
    "import pandas as pd\n",
    "import numpy as np\n",
    "import re\n",
    "from urllib.parse import urlparse"
   ]
  },
  {
   "cell_type": "markdown",
   "id": "f459a7ef-2a0e-4c40-8d09-4d977a63bf0d",
   "metadata": {},
   "source": [
    "# Data Gathering"
   ]
  },
  {
   "cell_type": "markdown",
   "id": "57241bae-b517-4e2d-9250-efb92eb24c6a",
   "metadata": {},
   "source": [
    "Data Understanding:\n",
    "\n",
    "Examine the dataset description provided to understand the dataset's characteristics, including its size, label distribution, and features.\n",
    "Review the \"Label\" and \"WebURL\" columns to understand the format of the data and the task at hand."
   ]
  },
  {
   "cell_type": "code",
   "execution_count": 130,
   "id": "0b39cfa5-1e76-4529-8166-485c7f1829a0",
   "metadata": {},
   "outputs": [],
   "source": [
    "df = pd.read_csv(\"data/train.csv\", low_memory=False, index_col=False)"
   ]
  },
  {
   "cell_type": "code",
   "execution_count": 131,
   "id": "83ad4bef-92c7-4210-9911-8c12fe2caf32",
   "metadata": {},
   "outputs": [
    {
     "data": {
      "text/html": [
       "<div>\n",
       "<style scoped>\n",
       "    .dataframe tbody tr th:only-of-type {\n",
       "        vertical-align: middle;\n",
       "    }\n",
       "\n",
       "    .dataframe tbody tr th {\n",
       "        vertical-align: top;\n",
       "    }\n",
       "\n",
       "    .dataframe thead th {\n",
       "        text-align: right;\n",
       "    }\n",
       "</style>\n",
       "<table border=\"1\" class=\"dataframe\">\n",
       "  <thead>\n",
       "    <tr style=\"text-align: right;\">\n",
       "      <th></th>\n",
       "      <th>phising_status</th>\n",
       "      <th>phising_urls</th>\n",
       "      <th>additional_urls</th>\n",
       "    </tr>\n",
       "  </thead>\n",
       "  <tbody>\n",
       "    <tr>\n",
       "      <th>0</th>\n",
       "      <td>2</td>\n",
       "      <td>https://blog.sockpuppet.us/</td>\n",
       "      <td>NaN</td>\n",
       "    </tr>\n",
       "    <tr>\n",
       "      <th>1</th>\n",
       "      <td>2</td>\n",
       "      <td>https://blog.apiki.com/seguranca/</td>\n",
       "      <td>NaN</td>\n",
       "    </tr>\n",
       "    <tr>\n",
       "      <th>2</th>\n",
       "      <td>1</td>\n",
       "      <td>http://autoecole-lauriston.com/a/T0RVd056QXlNe...</td>\n",
       "      <td>NaN</td>\n",
       "    </tr>\n",
       "    <tr>\n",
       "      <th>3</th>\n",
       "      <td>1</td>\n",
       "      <td>http://chinpay.site/index.html?hgcFSE@E$Z*DFcG...</td>\n",
       "      <td>NaN</td>\n",
       "    </tr>\n",
       "    <tr>\n",
       "      <th>4</th>\n",
       "      <td>2</td>\n",
       "      <td>http://www.firstfivenebraska.org/blog/article/...</td>\n",
       "      <td>NaN</td>\n",
       "    </tr>\n",
       "  </tbody>\n",
       "</table>\n",
       "</div>"
      ],
      "text/plain": [
       "   phising_status                                       phising_urls  \\\n",
       "0               2                        https://blog.sockpuppet.us/   \n",
       "1               2                  https://blog.apiki.com/seguranca/   \n",
       "2               1  http://autoecole-lauriston.com/a/T0RVd056QXlNe...   \n",
       "3               1  http://chinpay.site/index.html?hgcFSE@E$Z*DFcG...   \n",
       "4               2  http://www.firstfivenebraska.org/blog/article/...   \n",
       "\n",
       "  additional_urls  \n",
       "0             NaN  \n",
       "1             NaN  \n",
       "2             NaN  \n",
       "3             NaN  \n",
       "4             NaN  "
      ]
     },
     "execution_count": 131,
     "metadata": {},
     "output_type": "execute_result"
    }
   ],
   "source": [
    "df.head(5)"
   ]
  },
  {
   "cell_type": "markdown",
   "id": "91afe38b-ea2d-4637-a408-10765c93a581",
   "metadata": {},
   "source": [
    "# Data Preprocessing:"
   ]
  },
  {
   "cell_type": "markdown",
   "id": "d73cdf88-0d46-47aa-ad3a-31b794f9548a",
   "metadata": {},
   "source": [
    "Perform preprocessing steps such as data cleaning, removing duplicates, and handling missing values.\n",
    "Tokenize the URLs into individual components (e.g., domain, path, query parameters) for further analysis.\n",
    "Convert the textual data into numerical representations suitable for machine learning models."
   ]
  },
  {
   "cell_type": "code",
   "execution_count": 132,
   "id": "43641b52-1c11-415f-a360-d8bbf6a053da",
   "metadata": {},
   "outputs": [
    {
     "data": {
      "text/plain": [
       "phising_status          0\n",
       "phising_urls            0\n",
       "additional_urls    639987\n",
       "dtype: int64"
      ]
     },
     "execution_count": 132,
     "metadata": {},
     "output_type": "execute_result"
    }
   ],
   "source": [
    "# checking for missing values in dataset\n",
    "\n",
    "df.isna().sum()"
   ]
  },
  {
   "cell_type": "code",
   "execution_count": 133,
   "id": "dfbe9aa2-7b97-4d08-b17e-ddcb4ff85086",
   "metadata": {},
   "outputs": [],
   "source": [
    "# dropping \"additional_urls\" columns\n",
    "\n",
    "df = df.drop(columns=[\"additional_urls\"])"
   ]
  },
  {
   "cell_type": "markdown",
   "id": "57fc9887-0d71-48b7-8397-3f51fac7b1e4",
   "metadata": {},
   "source": [
    "* As we can see no missing data found in columns phising_status, phising_urls and additional_urls column has 639987 missing values, which will not be an useful column for the analysis, so dropped the column."
   ]
  },
  {
   "cell_type": "code",
   "execution_count": 134,
   "id": "d67e218d-b4ec-41f5-9f61-66772a99a37c",
   "metadata": {},
   "outputs": [
    {
     "data": {
      "text/html": [
       "<div>\n",
       "<style scoped>\n",
       "    .dataframe tbody tr th:only-of-type {\n",
       "        vertical-align: middle;\n",
       "    }\n",
       "\n",
       "    .dataframe tbody tr th {\n",
       "        vertical-align: top;\n",
       "    }\n",
       "\n",
       "    .dataframe thead th {\n",
       "        text-align: right;\n",
       "    }\n",
       "</style>\n",
       "<table border=\"1\" class=\"dataframe\">\n",
       "  <thead>\n",
       "    <tr style=\"text-align: right;\">\n",
       "      <th></th>\n",
       "      <th>phising_status</th>\n",
       "      <th>phising_urls</th>\n",
       "    </tr>\n",
       "  </thead>\n",
       "  <tbody>\n",
       "    <tr>\n",
       "      <th>0</th>\n",
       "      <td>2</td>\n",
       "      <td>https://blog.sockpuppet.us/</td>\n",
       "    </tr>\n",
       "    <tr>\n",
       "      <th>1</th>\n",
       "      <td>2</td>\n",
       "      <td>https://blog.apiki.com/seguranca/</td>\n",
       "    </tr>\n",
       "    <tr>\n",
       "      <th>2</th>\n",
       "      <td>1</td>\n",
       "      <td>http://autoecole-lauriston.com/a/T0RVd056QXlNe...</td>\n",
       "    </tr>\n",
       "    <tr>\n",
       "      <th>3</th>\n",
       "      <td>1</td>\n",
       "      <td>http://chinpay.site/index.html?hgcFSE@E$Z*DFcG...</td>\n",
       "    </tr>\n",
       "    <tr>\n",
       "      <th>4</th>\n",
       "      <td>2</td>\n",
       "      <td>http://www.firstfivenebraska.org/blog/article/...</td>\n",
       "    </tr>\n",
       "  </tbody>\n",
       "</table>\n",
       "</div>"
      ],
      "text/plain": [
       "   phising_status                                       phising_urls\n",
       "0               2                        https://blog.sockpuppet.us/\n",
       "1               2                  https://blog.apiki.com/seguranca/\n",
       "2               1  http://autoecole-lauriston.com/a/T0RVd056QXlNe...\n",
       "3               1  http://chinpay.site/index.html?hgcFSE@E$Z*DFcG...\n",
       "4               2  http://www.firstfivenebraska.org/blog/article/..."
      ]
     },
     "execution_count": 134,
     "metadata": {},
     "output_type": "execute_result"
    }
   ],
   "source": [
    "df.head(5)"
   ]
  },
  {
   "cell_type": "code",
   "execution_count": 135,
   "id": "d331b35d-2746-4e85-bb1b-38c2e5722e19",
   "metadata": {},
   "outputs": [
    {
     "data": {
      "text/plain": [
       "1279986"
      ]
     },
     "execution_count": 135,
     "metadata": {},
     "output_type": "execute_result"
    }
   ],
   "source": [
    "df.size"
   ]
  },
  {
   "cell_type": "code",
   "execution_count": 136,
   "id": "eeb2a10a-49d1-4f1b-97ef-66e51084b20f",
   "metadata": {},
   "outputs": [
    {
     "data": {
      "text/plain": [
       "0"
      ]
     },
     "execution_count": 136,
     "metadata": {},
     "output_type": "execute_result"
    }
   ],
   "source": [
    "# checking duplicate rows from the dataset to ensure data integrity\n",
    "df.duplicated().sum()"
   ]
  },
  {
   "cell_type": "markdown",
   "id": "f86d2661-e3b0-4bdd-ac85-5d5a80198732",
   "metadata": {},
   "source": [
    "No dulpicate data in the dataset"
   ]
  },
  {
   "cell_type": "code",
   "execution_count": 137,
   "id": "12002c86-8fd8-435c-b61f-4165ce697f8b",
   "metadata": {},
   "outputs": [
    {
     "data": {
      "text/html": [
       "<div>\n",
       "<style scoped>\n",
       "    .dataframe tbody tr th:only-of-type {\n",
       "        vertical-align: middle;\n",
       "    }\n",
       "\n",
       "    .dataframe tbody tr th {\n",
       "        vertical-align: top;\n",
       "    }\n",
       "\n",
       "    .dataframe thead th {\n",
       "        text-align: right;\n",
       "    }\n",
       "</style>\n",
       "<table border=\"1\" class=\"dataframe\">\n",
       "  <thead>\n",
       "    <tr style=\"text-align: right;\">\n",
       "      <th></th>\n",
       "      <th>phising_status</th>\n",
       "      <th>phising_urls</th>\n",
       "    </tr>\n",
       "  </thead>\n",
       "  <tbody>\n",
       "    <tr>\n",
       "      <th>0</th>\n",
       "      <td>2</td>\n",
       "      <td>https://blog.sockpuppet.us/</td>\n",
       "    </tr>\n",
       "    <tr>\n",
       "      <th>1</th>\n",
       "      <td>2</td>\n",
       "      <td>https://blog.apiki.com/seguranca/</td>\n",
       "    </tr>\n",
       "    <tr>\n",
       "      <th>2</th>\n",
       "      <td>1</td>\n",
       "      <td>http://autoecole-lauriston.com/a/T0RVd056QXlNe...</td>\n",
       "    </tr>\n",
       "    <tr>\n",
       "      <th>3</th>\n",
       "      <td>1</td>\n",
       "      <td>http://chinpay.site/index.html?hgcFSE@E$Z*DFcG...</td>\n",
       "    </tr>\n",
       "    <tr>\n",
       "      <th>4</th>\n",
       "      <td>2</td>\n",
       "      <td>http://www.firstfivenebraska.org/blog/article/...</td>\n",
       "    </tr>\n",
       "    <tr>\n",
       "      <th>...</th>\n",
       "      <td>...</td>\n",
       "      <td>...</td>\n",
       "    </tr>\n",
       "    <tr>\n",
       "      <th>639988</th>\n",
       "      <td>1</td>\n",
       "      <td>https://palmettopublicsafetysolutions.com/wp-1...</td>\n",
       "    </tr>\n",
       "    <tr>\n",
       "      <th>639989</th>\n",
       "      <td>2</td>\n",
       "      <td>https://txt-holdings.com/csr/</td>\n",
       "    </tr>\n",
       "    <tr>\n",
       "      <th>639990</th>\n",
       "      <td>1</td>\n",
       "      <td>http://www.getbeyou.com/wp-admin/js/widgets/8n...</td>\n",
       "    </tr>\n",
       "    <tr>\n",
       "      <th>639991</th>\n",
       "      <td>2</td>\n",
       "      <td>https://www.doellerer.at/feine-kost/heringssch...</td>\n",
       "    </tr>\n",
       "    <tr>\n",
       "      <th>639992</th>\n",
       "      <td>2</td>\n",
       "      <td>http://www.psicologovignali.it/tag/coppia/</td>\n",
       "    </tr>\n",
       "  </tbody>\n",
       "</table>\n",
       "<p>639993 rows × 2 columns</p>\n",
       "</div>"
      ],
      "text/plain": [
       "        phising_status                                       phising_urls\n",
       "0                    2                        https://blog.sockpuppet.us/\n",
       "1                    2                  https://blog.apiki.com/seguranca/\n",
       "2                    1  http://autoecole-lauriston.com/a/T0RVd056QXlNe...\n",
       "3                    1  http://chinpay.site/index.html?hgcFSE@E$Z*DFcG...\n",
       "4                    2  http://www.firstfivenebraska.org/blog/article/...\n",
       "...                ...                                                ...\n",
       "639988               1  https://palmettopublicsafetysolutions.com/wp-1...\n",
       "639989               2                      https://txt-holdings.com/csr/\n",
       "639990               1  http://www.getbeyou.com/wp-admin/js/widgets/8n...\n",
       "639991               2  https://www.doellerer.at/feine-kost/heringssch...\n",
       "639992               2         http://www.psicologovignali.it/tag/coppia/\n",
       "\n",
       "[639993 rows x 2 columns]"
      ]
     },
     "execution_count": 137,
     "metadata": {},
     "output_type": "execute_result"
    }
   ],
   "source": [
    "df"
   ]
  },
  {
   "cell_type": "code",
   "execution_count": 138,
   "id": "d79e9725-5790-46c1-aeab-a6a2f4076955",
   "metadata": {},
   "outputs": [],
   "source": [
    "# removing leading/trailing whitespaces from the 'phising_urls' column\n",
    "\n",
    "df1 = df.copy()\n",
    "\n",
    "df1[\"phising_urls\"] = df1['phising_urls'].str.strip()"
   ]
  },
  {
   "cell_type": "code",
   "execution_count": 139,
   "id": "94f79a77-901f-43bd-a216-d03adb307666",
   "metadata": {},
   "outputs": [
    {
     "data": {
      "text/html": [
       "<div>\n",
       "<style scoped>\n",
       "    .dataframe tbody tr th:only-of-type {\n",
       "        vertical-align: middle;\n",
       "    }\n",
       "\n",
       "    .dataframe tbody tr th {\n",
       "        vertical-align: top;\n",
       "    }\n",
       "\n",
       "    .dataframe thead th {\n",
       "        text-align: right;\n",
       "    }\n",
       "</style>\n",
       "<table border=\"1\" class=\"dataframe\">\n",
       "  <thead>\n",
       "    <tr style=\"text-align: right;\">\n",
       "      <th></th>\n",
       "      <th>phising_status</th>\n",
       "      <th>phising_urls</th>\n",
       "    </tr>\n",
       "  </thead>\n",
       "  <tbody>\n",
       "    <tr>\n",
       "      <th>0</th>\n",
       "      <td>2</td>\n",
       "      <td>https://blog.sockpuppet.us/</td>\n",
       "    </tr>\n",
       "    <tr>\n",
       "      <th>1</th>\n",
       "      <td>2</td>\n",
       "      <td>https://blog.apiki.com/seguranca/</td>\n",
       "    </tr>\n",
       "    <tr>\n",
       "      <th>2</th>\n",
       "      <td>1</td>\n",
       "      <td>http://autoecole-lauriston.com/a/T0RVd056QXlNe...</td>\n",
       "    </tr>\n",
       "    <tr>\n",
       "      <th>3</th>\n",
       "      <td>1</td>\n",
       "      <td>http://chinpay.site/index.html?hgcFSE@E$Z*DFcG...</td>\n",
       "    </tr>\n",
       "  </tbody>\n",
       "</table>\n",
       "</div>"
      ],
      "text/plain": [
       "   phising_status                                       phising_urls\n",
       "0               2                        https://blog.sockpuppet.us/\n",
       "1               2                  https://blog.apiki.com/seguranca/\n",
       "2               1  http://autoecole-lauriston.com/a/T0RVd056QXlNe...\n",
       "3               1  http://chinpay.site/index.html?hgcFSE@E$Z*DFcG..."
      ]
     },
     "execution_count": 139,
     "metadata": {},
     "output_type": "execute_result"
    }
   ],
   "source": [
    "df1.head(4)"
   ]
  },
  {
   "cell_type": "code",
   "execution_count": 140,
   "id": "593189e9-fe3f-41ba-935d-82b04d590bcf",
   "metadata": {},
   "outputs": [],
   "source": [
    "# converting all textual data to lowercase to ensure consistency as mot of the urls contains upper letters\n",
    "\n",
    "df2 = df1.copy()\n",
    "\n",
    "df2[\"phising_urls\"] = df2['phising_urls'].str.lower()"
   ]
  },
  {
   "cell_type": "code",
   "execution_count": 141,
   "id": "a65edc7f-0ebc-4545-acf8-e0a3bcbbdad5",
   "metadata": {},
   "outputs": [
    {
     "data": {
      "text/html": [
       "<div>\n",
       "<style scoped>\n",
       "    .dataframe tbody tr th:only-of-type {\n",
       "        vertical-align: middle;\n",
       "    }\n",
       "\n",
       "    .dataframe tbody tr th {\n",
       "        vertical-align: top;\n",
       "    }\n",
       "\n",
       "    .dataframe thead th {\n",
       "        text-align: right;\n",
       "    }\n",
       "</style>\n",
       "<table border=\"1\" class=\"dataframe\">\n",
       "  <thead>\n",
       "    <tr style=\"text-align: right;\">\n",
       "      <th></th>\n",
       "      <th>phising_status</th>\n",
       "      <th>phising_urls</th>\n",
       "    </tr>\n",
       "  </thead>\n",
       "  <tbody>\n",
       "    <tr>\n",
       "      <th>0</th>\n",
       "      <td>2</td>\n",
       "      <td>https://blog.sockpuppet.us/</td>\n",
       "    </tr>\n",
       "    <tr>\n",
       "      <th>1</th>\n",
       "      <td>2</td>\n",
       "      <td>https://blog.apiki.com/seguranca/</td>\n",
       "    </tr>\n",
       "    <tr>\n",
       "      <th>2</th>\n",
       "      <td>1</td>\n",
       "      <td>http://autoecole-lauriston.com/a/t0rvd056qxlne...</td>\n",
       "    </tr>\n",
       "  </tbody>\n",
       "</table>\n",
       "</div>"
      ],
      "text/plain": [
       "   phising_status                                       phising_urls\n",
       "0               2                        https://blog.sockpuppet.us/\n",
       "1               2                  https://blog.apiki.com/seguranca/\n",
       "2               1  http://autoecole-lauriston.com/a/t0rvd056qxlne..."
      ]
     },
     "execution_count": 141,
     "metadata": {},
     "output_type": "execute_result"
    }
   ],
   "source": [
    "df2.head(3)\n"
   ]
  },
  {
   "cell_type": "code",
   "execution_count": 159,
   "id": "d155c18a-d8ad-4bf5-b8f0-6bc029b7a5d0",
   "metadata": {},
   "outputs": [
    {
     "data": {
      "text/plain": [
       "'http://j-hunterhunter.com/category/uncategorized/'"
      ]
     },
     "execution_count": 159,
     "metadata": {},
     "output_type": "execute_result"
    }
   ],
   "source": [
    "df2[\"phising_urls\"][8]"
   ]
  },
  {
   "cell_type": "code",
   "execution_count": 165,
   "id": "c65a1579-c165-4e60-a89c-6a0fab8aff74",
   "metadata": {},
   "outputs": [],
   "source": [
    "df3 = df2.copy()"
   ]
  },
  {
   "cell_type": "code",
   "execution_count": 166,
   "id": "23ea1339-e65f-4eca-82a7-66d29330748f",
   "metadata": {},
   "outputs": [],
   "source": [
    "def tokenize_url(url):\n",
    "    parsed_url = urlparse(url)\n",
    "    return parsed_url\n",
    "\n",
    "\n",
    "# tokenize urls\n",
    "df3['parsed_url'] = df3['phising_urls'].apply(tokenize_url)\n"
   ]
  },
  {
   "cell_type": "code",
   "execution_count": 170,
   "id": "01e8b276-af29-4431-8db9-44a21f7b13bf",
   "metadata": {},
   "outputs": [
    {
     "data": {
      "text/plain": [
       "ParseResult(scheme='http', netloc='www.firstfivenebraska.org', path='/blog/article/covid-19-daily-digest', params='', query='', fragment='.xnvphyhkjiu')"
      ]
     },
     "execution_count": 170,
     "metadata": {},
     "output_type": "execute_result"
    }
   ],
   "source": [
    "df3['parsed_url'][4]"
   ]
  },
  {
   "cell_type": "code",
   "execution_count": 172,
   "id": "8c4baf1a-3ea2-41fd-bf16-d456d1ff109a",
   "metadata": {},
   "outputs": [],
   "source": [
    "df3['protocol'] = df3['parsed_url'].apply(lambda x: x.scheme)\n",
    "df3['domain'] = df3['parsed_url'].apply(lambda x: x.netloc)\n",
    "df3['path'] = df3['parsed_url'].apply(lambda x: x.path)\n",
    "df3['query_params'] = df3['parsed_url'].apply(lambda x: x.query)\n",
    "df3['fragement'] = df3['parsed_url'].apply(lambda x: x.fragment)"
   ]
  },
  {
   "cell_type": "code",
   "execution_count": 173,
   "id": "2f5ee047-2d10-446a-a449-954eeae29629",
   "metadata": {},
   "outputs": [
    {
     "data": {
      "text/html": [
       "<div>\n",
       "<style scoped>\n",
       "    .dataframe tbody tr th:only-of-type {\n",
       "        vertical-align: middle;\n",
       "    }\n",
       "\n",
       "    .dataframe tbody tr th {\n",
       "        vertical-align: top;\n",
       "    }\n",
       "\n",
       "    .dataframe thead th {\n",
       "        text-align: right;\n",
       "    }\n",
       "</style>\n",
       "<table border=\"1\" class=\"dataframe\">\n",
       "  <thead>\n",
       "    <tr style=\"text-align: right;\">\n",
       "      <th></th>\n",
       "      <th>phising_status</th>\n",
       "      <th>phising_urls</th>\n",
       "      <th>parsed_url</th>\n",
       "      <th>protocol</th>\n",
       "      <th>domain</th>\n",
       "      <th>path</th>\n",
       "      <th>query_params</th>\n",
       "      <th>fragement</th>\n",
       "    </tr>\n",
       "  </thead>\n",
       "  <tbody>\n",
       "    <tr>\n",
       "      <th>0</th>\n",
       "      <td>2</td>\n",
       "      <td>https://blog.sockpuppet.us/</td>\n",
       "      <td>(https, blog.sockpuppet.us, /, , , )</td>\n",
       "      <td>https</td>\n",
       "      <td>blog.sockpuppet.us</td>\n",
       "      <td>/</td>\n",
       "      <td></td>\n",
       "      <td></td>\n",
       "    </tr>\n",
       "    <tr>\n",
       "      <th>1</th>\n",
       "      <td>2</td>\n",
       "      <td>https://blog.apiki.com/seguranca/</td>\n",
       "      <td>(https, blog.apiki.com, /seguranca/, , , )</td>\n",
       "      <td>https</td>\n",
       "      <td>blog.apiki.com</td>\n",
       "      <td>/seguranca/</td>\n",
       "      <td></td>\n",
       "      <td></td>\n",
       "    </tr>\n",
       "    <tr>\n",
       "      <th>2</th>\n",
       "      <td>1</td>\n",
       "      <td>http://autoecole-lauriston.com/a/t0rvd056qxlne...</td>\n",
       "      <td>(http, autoecole-lauriston.com, /a/t0rvd056qxl...</td>\n",
       "      <td>http</td>\n",
       "      <td>autoecole-lauriston.com</td>\n",
       "      <td>/a/t0rvd056qxlnelf6t1rnpq==/</td>\n",
       "      <td></td>\n",
       "      <td></td>\n",
       "    </tr>\n",
       "    <tr>\n",
       "      <th>3</th>\n",
       "      <td>1</td>\n",
       "      <td>http://chinpay.site/index.html?hgcfse@e$z*dfcg...</td>\n",
       "      <td>(http, chinpay.site, /index.html, , hgcfse@e$z...</td>\n",
       "      <td>http</td>\n",
       "      <td>chinpay.site</td>\n",
       "      <td>/index.html</td>\n",
       "      <td>hgcfse@e$z*dfcgvhbinnikmojibhvgtfdrectfgvbh</td>\n",
       "      <td></td>\n",
       "    </tr>\n",
       "    <tr>\n",
       "      <th>4</th>\n",
       "      <td>2</td>\n",
       "      <td>http://www.firstfivenebraska.org/blog/article/...</td>\n",
       "      <td>(http, www.firstfivenebraska.org, /blog/articl...</td>\n",
       "      <td>http</td>\n",
       "      <td>www.firstfivenebraska.org</td>\n",
       "      <td>/blog/article/covid-19-daily-digest</td>\n",
       "      <td></td>\n",
       "      <td>.xnvphyhkjiu</td>\n",
       "    </tr>\n",
       "    <tr>\n",
       "      <th>...</th>\n",
       "      <td>...</td>\n",
       "      <td>...</td>\n",
       "      <td>...</td>\n",
       "      <td>...</td>\n",
       "      <td>...</td>\n",
       "      <td>...</td>\n",
       "      <td>...</td>\n",
       "      <td>...</td>\n",
       "    </tr>\n",
       "    <tr>\n",
       "      <th>639988</th>\n",
       "      <td>1</td>\n",
       "      <td>https://palmettopublicsafetysolutions.com/wp-1...</td>\n",
       "      <td>(https, palmettopublicsafetysolutions.com, /wp...</td>\n",
       "      <td>https</td>\n",
       "      <td>palmettopublicsafetysolutions.com</td>\n",
       "      <td>/wp-1home/home.php</td>\n",
       "      <td>public/enroll/identifyuser-aspx-lob=rbglogon=m...</td>\n",
       "      <td></td>\n",
       "    </tr>\n",
       "    <tr>\n",
       "      <th>639989</th>\n",
       "      <td>2</td>\n",
       "      <td>https://txt-holdings.com/csr/</td>\n",
       "      <td>(https, txt-holdings.com, /csr/, , , )</td>\n",
       "      <td>https</td>\n",
       "      <td>txt-holdings.com</td>\n",
       "      <td>/csr/</td>\n",
       "      <td></td>\n",
       "      <td></td>\n",
       "    </tr>\n",
       "    <tr>\n",
       "      <th>639990</th>\n",
       "      <td>1</td>\n",
       "      <td>http://www.getbeyou.com/wp-admin/js/widgets/8n...</td>\n",
       "      <td>(http, www.getbeyou.com, /wp-admin/js/widgets/...</td>\n",
       "      <td>http</td>\n",
       "      <td>www.getbeyou.com</td>\n",
       "      <td>/wp-admin/js/widgets/8nsq9ma65w54ze/profile/ac...</td>\n",
       "      <td>id=c7668510137d25018da33289cb213a17country=gr/...</td>\n",
       "      <td></td>\n",
       "    </tr>\n",
       "    <tr>\n",
       "      <th>639991</th>\n",
       "      <td>2</td>\n",
       "      <td>https://www.doellerer.at/feine-kost/heringssch...</td>\n",
       "      <td>(https, www.doellerer.at, /feine-kost/heringss...</td>\n",
       "      <td>https</td>\n",
       "      <td>www.doellerer.at</td>\n",
       "      <td>/feine-kost/heringsschmaus</td>\n",
       "      <td></td>\n",
       "      <td></td>\n",
       "    </tr>\n",
       "    <tr>\n",
       "      <th>639992</th>\n",
       "      <td>2</td>\n",
       "      <td>http://www.psicologovignali.it/tag/coppia/</td>\n",
       "      <td>(http, www.psicologovignali.it, /tag/coppia/, ...</td>\n",
       "      <td>http</td>\n",
       "      <td>www.psicologovignali.it</td>\n",
       "      <td>/tag/coppia/</td>\n",
       "      <td></td>\n",
       "      <td></td>\n",
       "    </tr>\n",
       "  </tbody>\n",
       "</table>\n",
       "<p>639993 rows × 8 columns</p>\n",
       "</div>"
      ],
      "text/plain": [
       "        phising_status                                       phising_urls  \\\n",
       "0                    2                        https://blog.sockpuppet.us/   \n",
       "1                    2                  https://blog.apiki.com/seguranca/   \n",
       "2                    1  http://autoecole-lauriston.com/a/t0rvd056qxlne...   \n",
       "3                    1  http://chinpay.site/index.html?hgcfse@e$z*dfcg...   \n",
       "4                    2  http://www.firstfivenebraska.org/blog/article/...   \n",
       "...                ...                                                ...   \n",
       "639988               1  https://palmettopublicsafetysolutions.com/wp-1...   \n",
       "639989               2                      https://txt-holdings.com/csr/   \n",
       "639990               1  http://www.getbeyou.com/wp-admin/js/widgets/8n...   \n",
       "639991               2  https://www.doellerer.at/feine-kost/heringssch...   \n",
       "639992               2         http://www.psicologovignali.it/tag/coppia/   \n",
       "\n",
       "                                               parsed_url protocol  \\\n",
       "0                    (https, blog.sockpuppet.us, /, , , )    https   \n",
       "1              (https, blog.apiki.com, /seguranca/, , , )    https   \n",
       "2       (http, autoecole-lauriston.com, /a/t0rvd056qxl...     http   \n",
       "3       (http, chinpay.site, /index.html, , hgcfse@e$z...     http   \n",
       "4       (http, www.firstfivenebraska.org, /blog/articl...     http   \n",
       "...                                                   ...      ...   \n",
       "639988  (https, palmettopublicsafetysolutions.com, /wp...    https   \n",
       "639989             (https, txt-holdings.com, /csr/, , , )    https   \n",
       "639990  (http, www.getbeyou.com, /wp-admin/js/widgets/...     http   \n",
       "639991  (https, www.doellerer.at, /feine-kost/heringss...    https   \n",
       "639992  (http, www.psicologovignali.it, /tag/coppia/, ...     http   \n",
       "\n",
       "                                   domain  \\\n",
       "0                      blog.sockpuppet.us   \n",
       "1                          blog.apiki.com   \n",
       "2                 autoecole-lauriston.com   \n",
       "3                            chinpay.site   \n",
       "4               www.firstfivenebraska.org   \n",
       "...                                   ...   \n",
       "639988  palmettopublicsafetysolutions.com   \n",
       "639989                   txt-holdings.com   \n",
       "639990                   www.getbeyou.com   \n",
       "639991                   www.doellerer.at   \n",
       "639992            www.psicologovignali.it   \n",
       "\n",
       "                                                     path  \\\n",
       "0                                                       /   \n",
       "1                                             /seguranca/   \n",
       "2                            /a/t0rvd056qxlnelf6t1rnpq==/   \n",
       "3                                             /index.html   \n",
       "4                     /blog/article/covid-19-daily-digest   \n",
       "...                                                   ...   \n",
       "639988                                 /wp-1home/home.php   \n",
       "639989                                              /csr/   \n",
       "639990  /wp-admin/js/widgets/8nsq9ma65w54ze/profile/ac...   \n",
       "639991                         /feine-kost/heringsschmaus   \n",
       "639992                                       /tag/coppia/   \n",
       "\n",
       "                                             query_params     fragement  \n",
       "0                                                                        \n",
       "1                                                                        \n",
       "2                                                                        \n",
       "3             hgcfse@e$z*dfcgvhbinnikmojibhvgtfdrectfgvbh                \n",
       "4                                                          .xnvphyhkjiu  \n",
       "...                                                   ...           ...  \n",
       "639988  public/enroll/identifyuser-aspx-lob=rbglogon=m...                \n",
       "639989                                                                   \n",
       "639990  id=c7668510137d25018da33289cb213a17country=gr/...                \n",
       "639991                                                                   \n",
       "639992                                                                   \n",
       "\n",
       "[639993 rows x 8 columns]"
      ]
     },
     "execution_count": 173,
     "metadata": {},
     "output_type": "execute_result"
    }
   ],
   "source": [
    "df3"
   ]
  },
  {
   "cell_type": "code",
   "execution_count": 174,
   "id": "65292496-e0f8-4855-93b0-d9d31e7cc08b",
   "metadata": {},
   "outputs": [
    {
     "data": {
      "text/plain": [
       "phising_status    0\n",
       "phising_urls      0\n",
       "parsed_url        0\n",
       "protocol          0\n",
       "domain            0\n",
       "path              0\n",
       "query_params      0\n",
       "fragement         0\n",
       "dtype: int64"
      ]
     },
     "execution_count": 174,
     "metadata": {},
     "output_type": "execute_result"
    }
   ],
   "source": [
    "df3.isna().sum()"
   ]
  },
  {
   "cell_type": "code",
   "execution_count": 176,
   "id": "437b793d-c99f-47be-9f26-7c8fb7ada5fd",
   "metadata": {},
   "outputs": [
    {
     "data": {
      "text/plain": [
       "''"
      ]
     },
     "execution_count": 176,
     "metadata": {},
     "output_type": "execute_result"
    }
   ],
   "source": [
    "df3['fragement'][0]"
   ]
  },
  {
   "cell_type": "code",
   "execution_count": null,
   "id": "ad4be24a-e51d-47a0-9cd3-14a05ff95926",
   "metadata": {},
   "outputs": [],
   "source": []
  }
 ],
 "metadata": {
  "kernelspec": {
   "display_name": "Python 3 (ipykernel)",
   "language": "python",
   "name": "python3"
  },
  "language_info": {
   "codemirror_mode": {
    "name": "ipython",
    "version": 3
   },
   "file_extension": ".py",
   "mimetype": "text/x-python",
   "name": "python",
   "nbconvert_exporter": "python",
   "pygments_lexer": "ipython3",
   "version": "3.11.7"
  }
 },
 "nbformat": 4,
 "nbformat_minor": 5
}
