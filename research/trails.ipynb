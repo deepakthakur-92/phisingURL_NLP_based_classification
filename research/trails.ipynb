{
 "cells": [
  {
   "cell_type": "markdown",
   "id": "6feb26ac-6551-4fe9-a2ec-f231493f119f",
   "metadata": {},
   "source": [
    "# Importing Necessary libraries"
   ]
  },
  {
   "cell_type": "code",
   "execution_count": 213,
   "id": "9f1bdac6-e6ed-462a-8b55-4758a14b56ce",
   "metadata": {},
   "outputs": [],
   "source": [
    "import pandas as pd\n",
    "import numpy as np\n",
    "import re\n",
    "import matplotlib.pyplot as plt\n",
    "from urllib.parse import urlparse\n",
    "from nltk.stem import PorterStemmer\n",
    "from nltk.stem import WordNetLemmatizer\n",
    "from nltk.corpus import stopwords"
   ]
  },
  {
   "cell_type": "markdown",
   "id": "f459a7ef-2a0e-4c40-8d09-4d977a63bf0d",
   "metadata": {},
   "source": [
    "# Data Gathering"
   ]
  },
  {
   "cell_type": "markdown",
   "id": "57241bae-b517-4e2d-9250-efb92eb24c6a",
   "metadata": {},
   "source": [
    "Data Understanding:\n",
    "\n",
    "Examine the dataset description provided to understand the dataset's characteristics, including its size, label distribution, and features.\n",
    "Review the \"Label\" and \"WebURL\" columns to understand the format of the data and the task at hand."
   ]
  },
  {
   "cell_type": "code",
   "execution_count": 130,
   "id": "0b39cfa5-1e76-4529-8166-485c7f1829a0",
   "metadata": {},
   "outputs": [],
   "source": [
    "df = pd.read_csv(\"data/train.csv\", low_memory=False, index_col=False)"
   ]
  },
  {
   "cell_type": "code",
   "execution_count": 131,
   "id": "83ad4bef-92c7-4210-9911-8c12fe2caf32",
   "metadata": {},
   "outputs": [
    {
     "data": {
      "text/html": [
       "<div>\n",
       "<style scoped>\n",
       "    .dataframe tbody tr th:only-of-type {\n",
       "        vertical-align: middle;\n",
       "    }\n",
       "\n",
       "    .dataframe tbody tr th {\n",
       "        vertical-align: top;\n",
       "    }\n",
       "\n",
       "    .dataframe thead th {\n",
       "        text-align: right;\n",
       "    }\n",
       "</style>\n",
       "<table border=\"1\" class=\"dataframe\">\n",
       "  <thead>\n",
       "    <tr style=\"text-align: right;\">\n",
       "      <th></th>\n",
       "      <th>phising_status</th>\n",
       "      <th>phising_urls</th>\n",
       "      <th>additional_urls</th>\n",
       "    </tr>\n",
       "  </thead>\n",
       "  <tbody>\n",
       "    <tr>\n",
       "      <th>0</th>\n",
       "      <td>2</td>\n",
       "      <td>https://blog.sockpuppet.us/</td>\n",
       "      <td>NaN</td>\n",
       "    </tr>\n",
       "    <tr>\n",
       "      <th>1</th>\n",
       "      <td>2</td>\n",
       "      <td>https://blog.apiki.com/seguranca/</td>\n",
       "      <td>NaN</td>\n",
       "    </tr>\n",
       "    <tr>\n",
       "      <th>2</th>\n",
       "      <td>1</td>\n",
       "      <td>http://autoecole-lauriston.com/a/T0RVd056QXlNe...</td>\n",
       "      <td>NaN</td>\n",
       "    </tr>\n",
       "    <tr>\n",
       "      <th>3</th>\n",
       "      <td>1</td>\n",
       "      <td>http://chinpay.site/index.html?hgcFSE@E$Z*DFcG...</td>\n",
       "      <td>NaN</td>\n",
       "    </tr>\n",
       "    <tr>\n",
       "      <th>4</th>\n",
       "      <td>2</td>\n",
       "      <td>http://www.firstfivenebraska.org/blog/article/...</td>\n",
       "      <td>NaN</td>\n",
       "    </tr>\n",
       "  </tbody>\n",
       "</table>\n",
       "</div>"
      ],
      "text/plain": [
       "   phising_status                                       phising_urls  \\\n",
       "0               2                        https://blog.sockpuppet.us/   \n",
       "1               2                  https://blog.apiki.com/seguranca/   \n",
       "2               1  http://autoecole-lauriston.com/a/T0RVd056QXlNe...   \n",
       "3               1  http://chinpay.site/index.html?hgcFSE@E$Z*DFcG...   \n",
       "4               2  http://www.firstfivenebraska.org/blog/article/...   \n",
       "\n",
       "  additional_urls  \n",
       "0             NaN  \n",
       "1             NaN  \n",
       "2             NaN  \n",
       "3             NaN  \n",
       "4             NaN  "
      ]
     },
     "execution_count": 131,
     "metadata": {},
     "output_type": "execute_result"
    }
   ],
   "source": [
    "df.head(5)"
   ]
  },
  {
   "cell_type": "markdown",
   "id": "91afe38b-ea2d-4637-a408-10765c93a581",
   "metadata": {},
   "source": [
    "# Data Preprocessing:"
   ]
  },
  {
   "cell_type": "markdown",
   "id": "d73cdf88-0d46-47aa-ad3a-31b794f9548a",
   "metadata": {},
   "source": [
    "Performing preprocessing steps such as data cleaning, removing duplicates, and handling missing values.\n",
    "Tokenize the URLs into individual components (e.g., domain, path, query parameters) for further analysis.\n",
    "Convert the textual data into numerical representations suitable for machine learning models."
   ]
  },
  {
   "cell_type": "code",
   "execution_count": 132,
   "id": "43641b52-1c11-415f-a360-d8bbf6a053da",
   "metadata": {},
   "outputs": [
    {
     "data": {
      "text/plain": [
       "phising_status          0\n",
       "phising_urls            0\n",
       "additional_urls    639987\n",
       "dtype: int64"
      ]
     },
     "execution_count": 132,
     "metadata": {},
     "output_type": "execute_result"
    }
   ],
   "source": [
    "# checking for missing values in dataset\n",
    "\n",
    "df.isna().sum()"
   ]
  },
  {
   "cell_type": "code",
   "execution_count": 133,
   "id": "dfbe9aa2-7b97-4d08-b17e-ddcb4ff85086",
   "metadata": {},
   "outputs": [],
   "source": [
    "# dropping \"additional_urls\" columns\n",
    "\n",
    "df = df.drop(columns=[\"additional_urls\"])"
   ]
  },
  {
   "cell_type": "markdown",
   "id": "57fc9887-0d71-48b7-8397-3f51fac7b1e4",
   "metadata": {},
   "source": [
    "* As we can see no missing data found in columns phising_status, phising_urls and additional_urls column has 639987 missing values, which will not be an useful column for the analysis, so dropped the column."
   ]
  },
  {
   "cell_type": "code",
   "execution_count": 134,
   "id": "d67e218d-b4ec-41f5-9f61-66772a99a37c",
   "metadata": {},
   "outputs": [
    {
     "data": {
      "text/html": [
       "<div>\n",
       "<style scoped>\n",
       "    .dataframe tbody tr th:only-of-type {\n",
       "        vertical-align: middle;\n",
       "    }\n",
       "\n",
       "    .dataframe tbody tr th {\n",
       "        vertical-align: top;\n",
       "    }\n",
       "\n",
       "    .dataframe thead th {\n",
       "        text-align: right;\n",
       "    }\n",
       "</style>\n",
       "<table border=\"1\" class=\"dataframe\">\n",
       "  <thead>\n",
       "    <tr style=\"text-align: right;\">\n",
       "      <th></th>\n",
       "      <th>phising_status</th>\n",
       "      <th>phising_urls</th>\n",
       "    </tr>\n",
       "  </thead>\n",
       "  <tbody>\n",
       "    <tr>\n",
       "      <th>0</th>\n",
       "      <td>2</td>\n",
       "      <td>https://blog.sockpuppet.us/</td>\n",
       "    </tr>\n",
       "    <tr>\n",
       "      <th>1</th>\n",
       "      <td>2</td>\n",
       "      <td>https://blog.apiki.com/seguranca/</td>\n",
       "    </tr>\n",
       "    <tr>\n",
       "      <th>2</th>\n",
       "      <td>1</td>\n",
       "      <td>http://autoecole-lauriston.com/a/T0RVd056QXlNe...</td>\n",
       "    </tr>\n",
       "    <tr>\n",
       "      <th>3</th>\n",
       "      <td>1</td>\n",
       "      <td>http://chinpay.site/index.html?hgcFSE@E$Z*DFcG...</td>\n",
       "    </tr>\n",
       "    <tr>\n",
       "      <th>4</th>\n",
       "      <td>2</td>\n",
       "      <td>http://www.firstfivenebraska.org/blog/article/...</td>\n",
       "    </tr>\n",
       "  </tbody>\n",
       "</table>\n",
       "</div>"
      ],
      "text/plain": [
       "   phising_status                                       phising_urls\n",
       "0               2                        https://blog.sockpuppet.us/\n",
       "1               2                  https://blog.apiki.com/seguranca/\n",
       "2               1  http://autoecole-lauriston.com/a/T0RVd056QXlNe...\n",
       "3               1  http://chinpay.site/index.html?hgcFSE@E$Z*DFcG...\n",
       "4               2  http://www.firstfivenebraska.org/blog/article/..."
      ]
     },
     "execution_count": 134,
     "metadata": {},
     "output_type": "execute_result"
    }
   ],
   "source": [
    "df.head(5)"
   ]
  },
  {
   "cell_type": "code",
   "execution_count": 208,
   "id": "571d9fbb-3a10-4206-ae30-158e100afe8e",
   "metadata": {},
   "outputs": [
    {
     "data": {
      "text/plain": [
       "phising_status\n",
       "2    319998\n",
       "1    319995\n",
       "Name: count, dtype: int64"
      ]
     },
     "execution_count": 208,
     "metadata": {},
     "output_type": "execute_result"
    }
   ],
   "source": [
    "df['phising_status'].value_counts()"
   ]
  },
  {
   "cell_type": "code",
   "execution_count": 135,
   "id": "d331b35d-2746-4e85-bb1b-38c2e5722e19",
   "metadata": {},
   "outputs": [
    {
     "data": {
      "text/plain": [
       "1279986"
      ]
     },
     "execution_count": 135,
     "metadata": {},
     "output_type": "execute_result"
    }
   ],
   "source": [
    "df.size"
   ]
  },
  {
   "cell_type": "code",
   "execution_count": 136,
   "id": "eeb2a10a-49d1-4f1b-97ef-66e51084b20f",
   "metadata": {},
   "outputs": [
    {
     "data": {
      "text/plain": [
       "0"
      ]
     },
     "execution_count": 136,
     "metadata": {},
     "output_type": "execute_result"
    }
   ],
   "source": [
    "# checking duplicate rows from the dataset to ensure data integrity\n",
    "df.duplicated().sum()"
   ]
  },
  {
   "cell_type": "markdown",
   "id": "f86d2661-e3b0-4bdd-ac85-5d5a80198732",
   "metadata": {},
   "source": [
    "No dulpicate data in the dataset"
   ]
  },
  {
   "cell_type": "code",
   "execution_count": 137,
   "id": "12002c86-8fd8-435c-b61f-4165ce697f8b",
   "metadata": {},
   "outputs": [
    {
     "data": {
      "text/html": [
       "<div>\n",
       "<style scoped>\n",
       "    .dataframe tbody tr th:only-of-type {\n",
       "        vertical-align: middle;\n",
       "    }\n",
       "\n",
       "    .dataframe tbody tr th {\n",
       "        vertical-align: top;\n",
       "    }\n",
       "\n",
       "    .dataframe thead th {\n",
       "        text-align: right;\n",
       "    }\n",
       "</style>\n",
       "<table border=\"1\" class=\"dataframe\">\n",
       "  <thead>\n",
       "    <tr style=\"text-align: right;\">\n",
       "      <th></th>\n",
       "      <th>phising_status</th>\n",
       "      <th>phising_urls</th>\n",
       "    </tr>\n",
       "  </thead>\n",
       "  <tbody>\n",
       "    <tr>\n",
       "      <th>0</th>\n",
       "      <td>2</td>\n",
       "      <td>https://blog.sockpuppet.us/</td>\n",
       "    </tr>\n",
       "    <tr>\n",
       "      <th>1</th>\n",
       "      <td>2</td>\n",
       "      <td>https://blog.apiki.com/seguranca/</td>\n",
       "    </tr>\n",
       "    <tr>\n",
       "      <th>2</th>\n",
       "      <td>1</td>\n",
       "      <td>http://autoecole-lauriston.com/a/T0RVd056QXlNe...</td>\n",
       "    </tr>\n",
       "    <tr>\n",
       "      <th>3</th>\n",
       "      <td>1</td>\n",
       "      <td>http://chinpay.site/index.html?hgcFSE@E$Z*DFcG...</td>\n",
       "    </tr>\n",
       "    <tr>\n",
       "      <th>4</th>\n",
       "      <td>2</td>\n",
       "      <td>http://www.firstfivenebraska.org/blog/article/...</td>\n",
       "    </tr>\n",
       "    <tr>\n",
       "      <th>...</th>\n",
       "      <td>...</td>\n",
       "      <td>...</td>\n",
       "    </tr>\n",
       "    <tr>\n",
       "      <th>639988</th>\n",
       "      <td>1</td>\n",
       "      <td>https://palmettopublicsafetysolutions.com/wp-1...</td>\n",
       "    </tr>\n",
       "    <tr>\n",
       "      <th>639989</th>\n",
       "      <td>2</td>\n",
       "      <td>https://txt-holdings.com/csr/</td>\n",
       "    </tr>\n",
       "    <tr>\n",
       "      <th>639990</th>\n",
       "      <td>1</td>\n",
       "      <td>http://www.getbeyou.com/wp-admin/js/widgets/8n...</td>\n",
       "    </tr>\n",
       "    <tr>\n",
       "      <th>639991</th>\n",
       "      <td>2</td>\n",
       "      <td>https://www.doellerer.at/feine-kost/heringssch...</td>\n",
       "    </tr>\n",
       "    <tr>\n",
       "      <th>639992</th>\n",
       "      <td>2</td>\n",
       "      <td>http://www.psicologovignali.it/tag/coppia/</td>\n",
       "    </tr>\n",
       "  </tbody>\n",
       "</table>\n",
       "<p>639993 rows × 2 columns</p>\n",
       "</div>"
      ],
      "text/plain": [
       "        phising_status                                       phising_urls\n",
       "0                    2                        https://blog.sockpuppet.us/\n",
       "1                    2                  https://blog.apiki.com/seguranca/\n",
       "2                    1  http://autoecole-lauriston.com/a/T0RVd056QXlNe...\n",
       "3                    1  http://chinpay.site/index.html?hgcFSE@E$Z*DFcG...\n",
       "4                    2  http://www.firstfivenebraska.org/blog/article/...\n",
       "...                ...                                                ...\n",
       "639988               1  https://palmettopublicsafetysolutions.com/wp-1...\n",
       "639989               2                      https://txt-holdings.com/csr/\n",
       "639990               1  http://www.getbeyou.com/wp-admin/js/widgets/8n...\n",
       "639991               2  https://www.doellerer.at/feine-kost/heringssch...\n",
       "639992               2         http://www.psicologovignali.it/tag/coppia/\n",
       "\n",
       "[639993 rows x 2 columns]"
      ]
     },
     "execution_count": 137,
     "metadata": {},
     "output_type": "execute_result"
    }
   ],
   "source": [
    "df"
   ]
  },
  {
   "cell_type": "code",
   "execution_count": 138,
   "id": "d79e9725-5790-46c1-aeab-a6a2f4076955",
   "metadata": {},
   "outputs": [],
   "source": [
    "# removing leading/trailing whitespaces from the 'phising_urls' column\n",
    "\n",
    "df1 = df.copy()\n",
    "\n",
    "df1[\"phising_urls\"] = df1['phising_urls'].str.strip()"
   ]
  },
  {
   "cell_type": "code",
   "execution_count": 139,
   "id": "94f79a77-901f-43bd-a216-d03adb307666",
   "metadata": {},
   "outputs": [
    {
     "data": {
      "text/html": [
       "<div>\n",
       "<style scoped>\n",
       "    .dataframe tbody tr th:only-of-type {\n",
       "        vertical-align: middle;\n",
       "    }\n",
       "\n",
       "    .dataframe tbody tr th {\n",
       "        vertical-align: top;\n",
       "    }\n",
       "\n",
       "    .dataframe thead th {\n",
       "        text-align: right;\n",
       "    }\n",
       "</style>\n",
       "<table border=\"1\" class=\"dataframe\">\n",
       "  <thead>\n",
       "    <tr style=\"text-align: right;\">\n",
       "      <th></th>\n",
       "      <th>phising_status</th>\n",
       "      <th>phising_urls</th>\n",
       "    </tr>\n",
       "  </thead>\n",
       "  <tbody>\n",
       "    <tr>\n",
       "      <th>0</th>\n",
       "      <td>2</td>\n",
       "      <td>https://blog.sockpuppet.us/</td>\n",
       "    </tr>\n",
       "    <tr>\n",
       "      <th>1</th>\n",
       "      <td>2</td>\n",
       "      <td>https://blog.apiki.com/seguranca/</td>\n",
       "    </tr>\n",
       "    <tr>\n",
       "      <th>2</th>\n",
       "      <td>1</td>\n",
       "      <td>http://autoecole-lauriston.com/a/T0RVd056QXlNe...</td>\n",
       "    </tr>\n",
       "    <tr>\n",
       "      <th>3</th>\n",
       "      <td>1</td>\n",
       "      <td>http://chinpay.site/index.html?hgcFSE@E$Z*DFcG...</td>\n",
       "    </tr>\n",
       "  </tbody>\n",
       "</table>\n",
       "</div>"
      ],
      "text/plain": [
       "   phising_status                                       phising_urls\n",
       "0               2                        https://blog.sockpuppet.us/\n",
       "1               2                  https://blog.apiki.com/seguranca/\n",
       "2               1  http://autoecole-lauriston.com/a/T0RVd056QXlNe...\n",
       "3               1  http://chinpay.site/index.html?hgcFSE@E$Z*DFcG..."
      ]
     },
     "execution_count": 139,
     "metadata": {},
     "output_type": "execute_result"
    }
   ],
   "source": [
    "df1.head(4)"
   ]
  },
  {
   "cell_type": "code",
   "execution_count": 140,
   "id": "593189e9-fe3f-41ba-935d-82b04d590bcf",
   "metadata": {},
   "outputs": [],
   "source": [
    "# converting all textual data to lowercase to ensure consistency as mot of the urls contains upper letters\n",
    "\n",
    "df2 = df1.copy()\n",
    "\n",
    "df2[\"phising_urls\"] = df2['phising_urls'].str.lower()"
   ]
  },
  {
   "cell_type": "code",
   "execution_count": 141,
   "id": "a65edc7f-0ebc-4545-acf8-e0a3bcbbdad5",
   "metadata": {},
   "outputs": [
    {
     "data": {
      "text/html": [
       "<div>\n",
       "<style scoped>\n",
       "    .dataframe tbody tr th:only-of-type {\n",
       "        vertical-align: middle;\n",
       "    }\n",
       "\n",
       "    .dataframe tbody tr th {\n",
       "        vertical-align: top;\n",
       "    }\n",
       "\n",
       "    .dataframe thead th {\n",
       "        text-align: right;\n",
       "    }\n",
       "</style>\n",
       "<table border=\"1\" class=\"dataframe\">\n",
       "  <thead>\n",
       "    <tr style=\"text-align: right;\">\n",
       "      <th></th>\n",
       "      <th>phising_status</th>\n",
       "      <th>phising_urls</th>\n",
       "    </tr>\n",
       "  </thead>\n",
       "  <tbody>\n",
       "    <tr>\n",
       "      <th>0</th>\n",
       "      <td>2</td>\n",
       "      <td>https://blog.sockpuppet.us/</td>\n",
       "    </tr>\n",
       "    <tr>\n",
       "      <th>1</th>\n",
       "      <td>2</td>\n",
       "      <td>https://blog.apiki.com/seguranca/</td>\n",
       "    </tr>\n",
       "    <tr>\n",
       "      <th>2</th>\n",
       "      <td>1</td>\n",
       "      <td>http://autoecole-lauriston.com/a/t0rvd056qxlne...</td>\n",
       "    </tr>\n",
       "  </tbody>\n",
       "</table>\n",
       "</div>"
      ],
      "text/plain": [
       "   phising_status                                       phising_urls\n",
       "0               2                        https://blog.sockpuppet.us/\n",
       "1               2                  https://blog.apiki.com/seguranca/\n",
       "2               1  http://autoecole-lauriston.com/a/t0rvd056qxlne..."
      ]
     },
     "execution_count": 141,
     "metadata": {},
     "output_type": "execute_result"
    }
   ],
   "source": [
    "df2.head(3)\n"
   ]
  },
  {
   "cell_type": "code",
   "execution_count": 159,
   "id": "d155c18a-d8ad-4bf5-b8f0-6bc029b7a5d0",
   "metadata": {},
   "outputs": [
    {
     "data": {
      "text/plain": [
       "'http://j-hunterhunter.com/category/uncategorized/'"
      ]
     },
     "execution_count": 159,
     "metadata": {},
     "output_type": "execute_result"
    }
   ],
   "source": [
    "df2[\"phising_urls\"][8]"
   ]
  },
  {
   "cell_type": "code",
   "execution_count": 215,
   "id": "23ea1339-e65f-4eca-82a7-66d29330748f",
   "metadata": {},
   "outputs": [],
   "source": [
    "# tokenizing  URLs to split the URLs into individual components such as protocol, domain, path, query and fragment parameters.\n",
    "\n",
    "df3 = df2.copy()\n",
    "\n",
    "def tokenize_url(url):\n",
    "    parsed_url = urlparse(url)\n",
    "    return parsed_url\n",
    "\n",
    "\n",
    "# tokenize urls\n",
    "df3['parsed_url'] = df3['phising_urls'].apply(tokenize_url)\n",
    "\n",
    "#extracting components from parsed_url\n",
    "df3['protocol'] = df3['parsed_url'].apply(lambda x: x.scheme)\n",
    "df3['domain'] = df3['parsed_url'].apply(lambda x: x.netloc)\n",
    "df3['path'] = df3['parsed_url'].apply(lambda x: x.path)\n",
    "df3['query_params'] = df3['parsed_url'].apply(lambda x: x.query)\n",
    "df3['fragement'] = df3['parsed_url'].apply(lambda x: x.fragment)"
   ]
  },
  {
   "cell_type": "code",
   "execution_count": 216,
   "id": "27eebea4-d06b-451c-b3db-53dbcf3655c7",
   "metadata": {
    "scrolled": true
   },
   "outputs": [
    {
     "data": {
      "text/html": [
       "<div>\n",
       "<style scoped>\n",
       "    .dataframe tbody tr th:only-of-type {\n",
       "        vertical-align: middle;\n",
       "    }\n",
       "\n",
       "    .dataframe tbody tr th {\n",
       "        vertical-align: top;\n",
       "    }\n",
       "\n",
       "    .dataframe thead th {\n",
       "        text-align: right;\n",
       "    }\n",
       "</style>\n",
       "<table border=\"1\" class=\"dataframe\">\n",
       "  <thead>\n",
       "    <tr style=\"text-align: right;\">\n",
       "      <th></th>\n",
       "      <th>phising_status</th>\n",
       "      <th>phising_urls</th>\n",
       "      <th>parsed_url</th>\n",
       "      <th>protocol</th>\n",
       "      <th>domain</th>\n",
       "      <th>path</th>\n",
       "      <th>query_params</th>\n",
       "      <th>fragement</th>\n",
       "    </tr>\n",
       "  </thead>\n",
       "  <tbody>\n",
       "    <tr>\n",
       "      <th>0</th>\n",
       "      <td>2</td>\n",
       "      <td>https://blog.sockpuppet.us/</td>\n",
       "      <td>(https, blog.sockpuppet.us, /, , , )</td>\n",
       "      <td>https</td>\n",
       "      <td>blog.sockpuppet.us</td>\n",
       "      <td>/</td>\n",
       "      <td></td>\n",
       "      <td></td>\n",
       "    </tr>\n",
       "    <tr>\n",
       "      <th>1</th>\n",
       "      <td>2</td>\n",
       "      <td>https://blog.apiki.com/seguranca/</td>\n",
       "      <td>(https, blog.apiki.com, /seguranca/, , , )</td>\n",
       "      <td>https</td>\n",
       "      <td>blog.apiki.com</td>\n",
       "      <td>/seguranca/</td>\n",
       "      <td></td>\n",
       "      <td></td>\n",
       "    </tr>\n",
       "    <tr>\n",
       "      <th>2</th>\n",
       "      <td>1</td>\n",
       "      <td>http://autoecole-lauriston.com/a/t0rvd056qxlne...</td>\n",
       "      <td>(http, autoecole-lauriston.com, /a/t0rvd056qxl...</td>\n",
       "      <td>http</td>\n",
       "      <td>autoecole-lauriston.com</td>\n",
       "      <td>/a/t0rvd056qxlnelf6t1rnpq==/</td>\n",
       "      <td></td>\n",
       "      <td></td>\n",
       "    </tr>\n",
       "    <tr>\n",
       "      <th>3</th>\n",
       "      <td>1</td>\n",
       "      <td>http://chinpay.site/index.html?hgcfse@e$z*dfcg...</td>\n",
       "      <td>(http, chinpay.site, /index.html, , hgcfse@e$z...</td>\n",
       "      <td>http</td>\n",
       "      <td>chinpay.site</td>\n",
       "      <td>/index.html</td>\n",
       "      <td>hgcfse@e$z*dfcgvhbinnikmojibhvgtfdrectfgvbh</td>\n",
       "      <td></td>\n",
       "    </tr>\n",
       "    <tr>\n",
       "      <th>4</th>\n",
       "      <td>2</td>\n",
       "      <td>http://www.firstfivenebraska.org/blog/article/...</td>\n",
       "      <td>(http, www.firstfivenebraska.org, /blog/articl...</td>\n",
       "      <td>http</td>\n",
       "      <td>www.firstfivenebraska.org</td>\n",
       "      <td>/blog/article/covid-19-daily-digest</td>\n",
       "      <td></td>\n",
       "      <td>.xnvphyhkjiu</td>\n",
       "    </tr>\n",
       "  </tbody>\n",
       "</table>\n",
       "</div>"
      ],
      "text/plain": [
       "   phising_status                                       phising_urls  \\\n",
       "0               2                        https://blog.sockpuppet.us/   \n",
       "1               2                  https://blog.apiki.com/seguranca/   \n",
       "2               1  http://autoecole-lauriston.com/a/t0rvd056qxlne...   \n",
       "3               1  http://chinpay.site/index.html?hgcfse@e$z*dfcg...   \n",
       "4               2  http://www.firstfivenebraska.org/blog/article/...   \n",
       "\n",
       "                                          parsed_url protocol  \\\n",
       "0               (https, blog.sockpuppet.us, /, , , )    https   \n",
       "1         (https, blog.apiki.com, /seguranca/, , , )    https   \n",
       "2  (http, autoecole-lauriston.com, /a/t0rvd056qxl...     http   \n",
       "3  (http, chinpay.site, /index.html, , hgcfse@e$z...     http   \n",
       "4  (http, www.firstfivenebraska.org, /blog/articl...     http   \n",
       "\n",
       "                      domain                                 path  \\\n",
       "0         blog.sockpuppet.us                                    /   \n",
       "1             blog.apiki.com                          /seguranca/   \n",
       "2    autoecole-lauriston.com         /a/t0rvd056qxlnelf6t1rnpq==/   \n",
       "3               chinpay.site                          /index.html   \n",
       "4  www.firstfivenebraska.org  /blog/article/covid-19-daily-digest   \n",
       "\n",
       "                                  query_params     fragement  \n",
       "0                                                             \n",
       "1                                                             \n",
       "2                                                             \n",
       "3  hgcfse@e$z*dfcgvhbinnikmojibhvgtfdrectfgvbh                \n",
       "4                                               .xnvphyhkjiu  "
      ]
     },
     "execution_count": 216,
     "metadata": {},
     "output_type": "execute_result"
    }
   ],
   "source": [
    "df3.head(5)"
   ]
  },
  {
   "cell_type": "markdown",
   "id": "f00b47c7-b861-4f4c-a4f5-4f592d57bb35",
   "metadata": {},
   "source": [
    "* After separating the protocol(scheme), domain(netloc), path, query_params(query), fragement form parsed_url, we can see most of the values in query_params and fragement is empty so need to fill these values."
   ]
  },
  {
   "cell_type": "code",
   "execution_count": 205,
   "id": "be5d71ca-6b57-409e-a400-d4db6745c33c",
   "metadata": {},
   "outputs": [],
   "source": [
    "# replacing empty value with None\n",
    "\n",
    "df3['query_params'] = df3['query_params'].replace('', \"<UNK>\")\n",
    "df3['fragement'] = df3['fragement'].replace('', \"<UNK>\")"
   ]
  },
  {
   "cell_type": "code",
   "execution_count": 206,
   "id": "76014514-1a67-4445-8fa7-53d012fa6aa8",
   "metadata": {},
   "outputs": [
    {
     "data": {
      "text/html": [
       "<div>\n",
       "<style scoped>\n",
       "    .dataframe tbody tr th:only-of-type {\n",
       "        vertical-align: middle;\n",
       "    }\n",
       "\n",
       "    .dataframe tbody tr th {\n",
       "        vertical-align: top;\n",
       "    }\n",
       "\n",
       "    .dataframe thead th {\n",
       "        text-align: right;\n",
       "    }\n",
       "</style>\n",
       "<table border=\"1\" class=\"dataframe\">\n",
       "  <thead>\n",
       "    <tr style=\"text-align: right;\">\n",
       "      <th></th>\n",
       "      <th>phising_status</th>\n",
       "      <th>phising_urls</th>\n",
       "      <th>parsed_url</th>\n",
       "      <th>protocol</th>\n",
       "      <th>domain</th>\n",
       "      <th>path</th>\n",
       "      <th>query_params</th>\n",
       "      <th>fragement</th>\n",
       "    </tr>\n",
       "  </thead>\n",
       "  <tbody>\n",
       "    <tr>\n",
       "      <th>0</th>\n",
       "      <td>2</td>\n",
       "      <td>https://blog.sockpuppet.us/</td>\n",
       "      <td>(https, blog.sockpuppet.us, /, , , )</td>\n",
       "      <td>https</td>\n",
       "      <td>blog.sockpuppet.us</td>\n",
       "      <td>/</td>\n",
       "      <td>None</td>\n",
       "      <td>None</td>\n",
       "    </tr>\n",
       "    <tr>\n",
       "      <th>1</th>\n",
       "      <td>2</td>\n",
       "      <td>https://blog.apiki.com/seguranca/</td>\n",
       "      <td>(https, blog.apiki.com, /seguranca/, , , )</td>\n",
       "      <td>https</td>\n",
       "      <td>blog.apiki.com</td>\n",
       "      <td>/seguranca/</td>\n",
       "      <td>None</td>\n",
       "      <td>None</td>\n",
       "    </tr>\n",
       "    <tr>\n",
       "      <th>2</th>\n",
       "      <td>1</td>\n",
       "      <td>http://autoecole-lauriston.com/a/t0rvd056qxlne...</td>\n",
       "      <td>(http, autoecole-lauriston.com, /a/t0rvd056qxl...</td>\n",
       "      <td>http</td>\n",
       "      <td>autoecole-lauriston.com</td>\n",
       "      <td>/a/t0rvd056qxlnelf6t1rnpq==/</td>\n",
       "      <td>None</td>\n",
       "      <td>None</td>\n",
       "    </tr>\n",
       "    <tr>\n",
       "      <th>3</th>\n",
       "      <td>1</td>\n",
       "      <td>http://chinpay.site/index.html?hgcfse@e$z*dfcg...</td>\n",
       "      <td>(http, chinpay.site, /index.html, , hgcfse@e$z...</td>\n",
       "      <td>http</td>\n",
       "      <td>chinpay.site</td>\n",
       "      <td>/index.html</td>\n",
       "      <td>hgcfse@e$z*dfcgvhbinnikmojibhvgtfdrectfgvbh</td>\n",
       "      <td>None</td>\n",
       "    </tr>\n",
       "    <tr>\n",
       "      <th>4</th>\n",
       "      <td>2</td>\n",
       "      <td>http://www.firstfivenebraska.org/blog/article/...</td>\n",
       "      <td>(http, www.firstfivenebraska.org, /blog/articl...</td>\n",
       "      <td>http</td>\n",
       "      <td>www.firstfivenebraska.org</td>\n",
       "      <td>/blog/article/covid-19-daily-digest</td>\n",
       "      <td>None</td>\n",
       "      <td>.xnvphyhkjiu</td>\n",
       "    </tr>\n",
       "    <tr>\n",
       "      <th>...</th>\n",
       "      <td>...</td>\n",
       "      <td>...</td>\n",
       "      <td>...</td>\n",
       "      <td>...</td>\n",
       "      <td>...</td>\n",
       "      <td>...</td>\n",
       "      <td>...</td>\n",
       "      <td>...</td>\n",
       "    </tr>\n",
       "    <tr>\n",
       "      <th>639988</th>\n",
       "      <td>1</td>\n",
       "      <td>https://palmettopublicsafetysolutions.com/wp-1...</td>\n",
       "      <td>(https, palmettopublicsafetysolutions.com, /wp...</td>\n",
       "      <td>https</td>\n",
       "      <td>palmettopublicsafetysolutions.com</td>\n",
       "      <td>/wp-1home/home.php</td>\n",
       "      <td>public/enroll/identifyuser-aspx-lob=rbglogon=m...</td>\n",
       "      <td>None</td>\n",
       "    </tr>\n",
       "    <tr>\n",
       "      <th>639989</th>\n",
       "      <td>2</td>\n",
       "      <td>https://txt-holdings.com/csr/</td>\n",
       "      <td>(https, txt-holdings.com, /csr/, , , )</td>\n",
       "      <td>https</td>\n",
       "      <td>txt-holdings.com</td>\n",
       "      <td>/csr/</td>\n",
       "      <td>None</td>\n",
       "      <td>None</td>\n",
       "    </tr>\n",
       "    <tr>\n",
       "      <th>639990</th>\n",
       "      <td>1</td>\n",
       "      <td>http://www.getbeyou.com/wp-admin/js/widgets/8n...</td>\n",
       "      <td>(http, www.getbeyou.com, /wp-admin/js/widgets/...</td>\n",
       "      <td>http</td>\n",
       "      <td>www.getbeyou.com</td>\n",
       "      <td>/wp-admin/js/widgets/8nsq9ma65w54ze/profile/ac...</td>\n",
       "      <td>id=c7668510137d25018da33289cb213a17country=gr/...</td>\n",
       "      <td>None</td>\n",
       "    </tr>\n",
       "    <tr>\n",
       "      <th>639991</th>\n",
       "      <td>2</td>\n",
       "      <td>https://www.doellerer.at/feine-kost/heringssch...</td>\n",
       "      <td>(https, www.doellerer.at, /feine-kost/heringss...</td>\n",
       "      <td>https</td>\n",
       "      <td>www.doellerer.at</td>\n",
       "      <td>/feine-kost/heringsschmaus</td>\n",
       "      <td>None</td>\n",
       "      <td>None</td>\n",
       "    </tr>\n",
       "    <tr>\n",
       "      <th>639992</th>\n",
       "      <td>2</td>\n",
       "      <td>http://www.psicologovignali.it/tag/coppia/</td>\n",
       "      <td>(http, www.psicologovignali.it, /tag/coppia/, ...</td>\n",
       "      <td>http</td>\n",
       "      <td>www.psicologovignali.it</td>\n",
       "      <td>/tag/coppia/</td>\n",
       "      <td>None</td>\n",
       "      <td>None</td>\n",
       "    </tr>\n",
       "  </tbody>\n",
       "</table>\n",
       "<p>639993 rows × 8 columns</p>\n",
       "</div>"
      ],
      "text/plain": [
       "        phising_status                                       phising_urls  \\\n",
       "0                    2                        https://blog.sockpuppet.us/   \n",
       "1                    2                  https://blog.apiki.com/seguranca/   \n",
       "2                    1  http://autoecole-lauriston.com/a/t0rvd056qxlne...   \n",
       "3                    1  http://chinpay.site/index.html?hgcfse@e$z*dfcg...   \n",
       "4                    2  http://www.firstfivenebraska.org/blog/article/...   \n",
       "...                ...                                                ...   \n",
       "639988               1  https://palmettopublicsafetysolutions.com/wp-1...   \n",
       "639989               2                      https://txt-holdings.com/csr/   \n",
       "639990               1  http://www.getbeyou.com/wp-admin/js/widgets/8n...   \n",
       "639991               2  https://www.doellerer.at/feine-kost/heringssch...   \n",
       "639992               2         http://www.psicologovignali.it/tag/coppia/   \n",
       "\n",
       "                                               parsed_url protocol  \\\n",
       "0                    (https, blog.sockpuppet.us, /, , , )    https   \n",
       "1              (https, blog.apiki.com, /seguranca/, , , )    https   \n",
       "2       (http, autoecole-lauriston.com, /a/t0rvd056qxl...     http   \n",
       "3       (http, chinpay.site, /index.html, , hgcfse@e$z...     http   \n",
       "4       (http, www.firstfivenebraska.org, /blog/articl...     http   \n",
       "...                                                   ...      ...   \n",
       "639988  (https, palmettopublicsafetysolutions.com, /wp...    https   \n",
       "639989             (https, txt-holdings.com, /csr/, , , )    https   \n",
       "639990  (http, www.getbeyou.com, /wp-admin/js/widgets/...     http   \n",
       "639991  (https, www.doellerer.at, /feine-kost/heringss...    https   \n",
       "639992  (http, www.psicologovignali.it, /tag/coppia/, ...     http   \n",
       "\n",
       "                                   domain  \\\n",
       "0                      blog.sockpuppet.us   \n",
       "1                          blog.apiki.com   \n",
       "2                 autoecole-lauriston.com   \n",
       "3                            chinpay.site   \n",
       "4               www.firstfivenebraska.org   \n",
       "...                                   ...   \n",
       "639988  palmettopublicsafetysolutions.com   \n",
       "639989                   txt-holdings.com   \n",
       "639990                   www.getbeyou.com   \n",
       "639991                   www.doellerer.at   \n",
       "639992            www.psicologovignali.it   \n",
       "\n",
       "                                                     path  \\\n",
       "0                                                       /   \n",
       "1                                             /seguranca/   \n",
       "2                            /a/t0rvd056qxlnelf6t1rnpq==/   \n",
       "3                                             /index.html   \n",
       "4                     /blog/article/covid-19-daily-digest   \n",
       "...                                                   ...   \n",
       "639988                                 /wp-1home/home.php   \n",
       "639989                                              /csr/   \n",
       "639990  /wp-admin/js/widgets/8nsq9ma65w54ze/profile/ac...   \n",
       "639991                         /feine-kost/heringsschmaus   \n",
       "639992                                       /tag/coppia/   \n",
       "\n",
       "                                             query_params     fragement  \n",
       "0                                                    None          None  \n",
       "1                                                    None          None  \n",
       "2                                                    None          None  \n",
       "3             hgcfse@e$z*dfcgvhbinnikmojibhvgtfdrectfgvbh          None  \n",
       "4                                                    None  .xnvphyhkjiu  \n",
       "...                                                   ...           ...  \n",
       "639988  public/enroll/identifyuser-aspx-lob=rbglogon=m...          None  \n",
       "639989                                               None          None  \n",
       "639990  id=c7668510137d25018da33289cb213a17country=gr/...          None  \n",
       "639991                                               None          None  \n",
       "639992                                               None          None  \n",
       "\n",
       "[639993 rows x 8 columns]"
      ]
     },
     "execution_count": 206,
     "metadata": {},
     "output_type": "execute_result"
    }
   ],
   "source": [
    "df3"
   ]
  },
  {
   "cell_type": "code",
   "execution_count": 219,
   "id": "3c7147fb-094b-4887-bf48-981c728ba79d",
   "metadata": {},
   "outputs": [
    {
     "name": "stdout",
     "output_type": "stream",
     "text": [
      "Summary Statistics for Numerical Features 'phising_status' :\n",
      " count    639993.000000\n",
      "mean          1.500002\n",
      "std           0.500000\n",
      "min           1.000000\n",
      "25%           1.000000\n",
      "50%           2.000000\n",
      "75%           2.000000\n",
      "max           2.000000\n",
      "Name: phising_status, dtype: float64\n"
     ]
    }
   ],
   "source": [
    "# summary statistics for numerical features\n",
    "\n",
    "numerical_summary = df['phising_status'].describe()\n",
    "print(\"Summary Statistics for Numerical Features 'phising_status' :\\n\", numerical_summary)"
   ]
  },
  {
   "cell_type": "code",
   "execution_count": null,
   "id": "e11e0461-d73c-4020-895d-00e00032128c",
   "metadata": {},
   "outputs": [],
   "source": [
    "# count of unique values"
   ]
  },
  {
   "cell_type": "code",
   "execution_count": null,
   "id": "d5f9712d-fb6a-4925-a4af-68e963596171",
   "metadata": {},
   "outputs": [],
   "source": []
  },
  {
   "cell_type": "code",
   "execution_count": null,
   "id": "27a798d9-b123-4e58-b71d-e8a0b25fb52e",
   "metadata": {},
   "outputs": [],
   "source": []
  },
  {
   "cell_type": "code",
   "execution_count": null,
   "id": "a6dd928e-df5d-4e13-8dae-cb7bcc4903f1",
   "metadata": {},
   "outputs": [],
   "source": []
  },
  {
   "cell_type": "code",
   "execution_count": null,
   "id": "bcba33de-f8d0-44a4-9559-79dd1379e8f0",
   "metadata": {},
   "outputs": [],
   "source": []
  },
  {
   "cell_type": "code",
   "execution_count": null,
   "id": "1a0a0390-bad5-4cb3-b8b2-e0f83fb29c39",
   "metadata": {},
   "outputs": [],
   "source": []
  },
  {
   "cell_type": "code",
   "execution_count": null,
   "id": "67dc18db-344b-422d-a937-e5799eb9ad17",
   "metadata": {},
   "outputs": [],
   "source": []
  },
  {
   "cell_type": "code",
   "execution_count": null,
   "id": "078990f0-96de-4984-a1b6-9e6d8f19a23e",
   "metadata": {},
   "outputs": [],
   "source": []
  },
  {
   "cell_type": "code",
   "execution_count": 209,
   "id": "ad4be24a-e51d-47a0-9cd3-14a05ff95926",
   "metadata": {},
   "outputs": [],
   "source": [
    "# distribution of phising and legitimate URLs\n"
   ]
  },
  {
   "cell_type": "code",
   "execution_count": null,
   "id": "4948a175-fab2-4d24-bf45-7375ce2e9cad",
   "metadata": {},
   "outputs": [],
   "source": []
  },
  {
   "cell_type": "code",
   "execution_count": 211,
   "id": "371cead5-bdd8-4e4d-a84c-5d43a37b11d6",
   "metadata": {},
   "outputs": [
    {
     "data": {
      "image/png": "[encoded data removed]",
      "text/plain": [
       "<Figure size 800x600 with 1 Axes>"
      ]
     },
     "metadata": {},
     "output_type": "display_data"
    },
    {
     "data": {
      "image/png": "[encoded data removed]",
      "text/plain": [
       "<Figure size 800x600 with 1 Axes>"
      ]
     },
     "metadata": {},
     "output_type": "display_data"
    }
   ],
   "source": []
  },
  {
   "cell_type": "code",
   "execution_count": 212,
   "id": "150b9637-5f62-4162-a8a3-f31ae938a499",
   "metadata": {},
   "outputs": [
    {
     "data": {
      "text/plain": [
       "protocol\n",
       "https        339145\n",
       "http         300590\n",
       "                161\n",
       "mailto           36\n",
       "ftp              19\n",
       "feed             11\n",
       "itpc              6\n",
       "rsync             6\n",
       "webcal            4\n",
       "ts3server         2\n",
       "hxxps             2\n",
       "rtsp              1\n",
       "htttp             1\n",
       "ldap              1\n",
       "safaris           1\n",
       "ttp               1\n",
       "thtp              1\n",
       "file              1\n",
       "appstream         1\n",
       "pcast             1\n",
       "ts3               1\n",
       "irc               1\n",
       "Name: count, dtype: int64"
      ]
     },
     "execution_count": 212,
     "metadata": {},
     "output_type": "execute_result"
    }
   ],
   "source": [
    "df3['protocol'].value_counts()"
   ]
  },
  {
   "cell_type": "code",
   "execution_count": null,
   "id": "6e46f2dc-4a0c-40de-835f-87aa3b8d120d",
   "metadata": {},
   "outputs": [],
   "source": []
  }
 ],
 "metadata": {
  "kernelspec": {
   "display_name": "Python 3 (ipykernel)",
   "language": "python",
   "name": "python3"
  },
  "language_info": {
   "codemirror_mode": {
    "name": "ipython",
    "version": 3
   },
   "file_extension": ".py",
   "mimetype": "text/x-python",
   "name": "python",
   "nbconvert_exporter": "python",
   "pygments_lexer": "ipython3",
   "version": "3.11.7"
  }
 },
 "nbformat": 4,
 "nbformat_minor": 5
}
